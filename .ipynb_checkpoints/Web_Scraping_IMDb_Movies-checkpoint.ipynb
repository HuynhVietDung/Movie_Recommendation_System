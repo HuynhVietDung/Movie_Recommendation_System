{
 "cells": [
  {
   "cell_type": "markdown",
   "id": "1987f33f",
   "metadata": {},
   "source": [
    "## Scraping movies from IMDbTop 1000"
   ]
  },
  {
   "attachments": {},
   "cell_type": "markdown",
   "id": "e157c8fc",
   "metadata": {},
   "source": [
    "IMDB ( viết tắt của Internet Movie Database) là cơ sở dữ liệu trực tuyến chứa thông tin liên quan đến phim, phim truyền hình, video gia đình, trò chơi điện tử và nội dung phát trực tuyến – bao gồm dàn diễn viên, đội ngũ sản xuất và tiểu sử cá nhân, tóm tắt cốt truyện, câu đố, xếp hạng, đánh giá của người hâm mộ và giới phê bình. IMDb bắt đầu như một cơ sở dữ liệu phim do người hâm mộ điều hành trên nhóm Usenet \"rec.arts.movies\" vào năm 1990 và chuyển sang Web vào năm 1993. Hiện tại, IMDb.com, Inc. , một công ty con của Amazon , sở hữu và điều hành."
   ]
  },
  {
   "cell_type": "markdown",
   "id": "7bffb8c3",
   "metadata": {},
   "source": [
    "![](1.png)"
   ]
  },
  {
   "cell_type": "markdown",
   "id": "8b863007",
   "metadata": {},
   "source": [
    "Chúng ta sẽ lấy top 1000 bộ phim (dựa trên điểm rating) của IMDb bằng thư viện Beautiful Soup (BS4)\n",
    "Beautiful Soup (BS4) là một thư viện phân tích cú pháp có thể sử dụng các parsers khác nhau từ đó có thể trích xuất dữ liệu từ các tài liệu HTML và XML một cách dễ dàng. Sau khi phân tích các HTML cũng như XML đầu vào, Beautiful Soup cho phép chúng ta dễ dàng di chuyển, tìm kiếm, thay đổi cũng như trích xuất dữ liệu từ cây cú pháp. Cú pháp rõ ràng linh hoạt và sự mạnh mẽ các lý do khiến Beautiful Soup trở thành một trong những công cụ phổ biến nhất cho việc thu thập dữ liệu web.\\ \n",
    "\n",
    "**Sau đây là chi tiết cách làm.**"
   ]
  },
  {
   "cell_type": "markdown",
   "id": "8882b0c5",
   "metadata": {},
   "source": [
    "### Sử dụng thư viện BeautifulSoup để lấy dữ liệu "
   ]
  },
  {
   "cell_type": "code",
   "execution_count": 3,
   "id": "2acc07b8",
   "metadata": {},
   "outputs": [],
   "source": [
    "import requests\n",
    "from bs4 import BeautifulSoup\n",
    "import pandas as pd\n",
    "import numpy as np\n",
    "import time"
   ]
  },
  {
   "cell_type": "code",
   "execution_count": 102,
   "id": "4f4395b2",
   "metadata": {},
   "outputs": [],
   "source": [
    "headers = {'Accept-Language': 'en-US, en;q=0.5'}"
   ]
  },
  {
   "cell_type": "markdown",
   "id": "186bcaab",
   "metadata": {},
   "source": [
    "### Tạo danh sách các url "
   ]
  },
  {
   "cell_type": "code",
   "execution_count": 103,
   "id": "61fef824",
   "metadata": {},
   "outputs": [
    {
     "data": {
      "text/plain": [
       "['https://www.imdb.com/search/title/?count=100&groups=top_1000&sort=user_rating',\n",
       " 'https://www.imdb.com/search/title/?groups=top_1000&sort=user_rating,desc&count=100&start=101&ref_=adv_nxt',\n",
       " 'https://www.imdb.com/search/title/?groups=top_1000&sort=user_rating,desc&count=100&start=201&ref_=adv_nxt',\n",
       " 'https://www.imdb.com/search/title/?groups=top_1000&sort=user_rating,desc&count=100&start=301&ref_=adv_nxt',\n",
       " 'https://www.imdb.com/search/title/?groups=top_1000&sort=user_rating,desc&count=100&start=401&ref_=adv_nxt',\n",
       " 'https://www.imdb.com/search/title/?groups=top_1000&sort=user_rating,desc&count=100&start=501&ref_=adv_nxt',\n",
       " 'https://www.imdb.com/search/title/?groups=top_1000&sort=user_rating,desc&count=100&start=601&ref_=adv_nxt',\n",
       " 'https://www.imdb.com/search/title/?groups=top_1000&sort=user_rating,desc&count=100&start=701&ref_=adv_nxt',\n",
       " 'https://www.imdb.com/search/title/?groups=top_1000&sort=user_rating,desc&count=100&start=801&ref_=adv_nxt',\n",
       " 'https://www.imdb.com/search/title/?groups=top_1000&sort=user_rating,desc&count=100&start=901&ref_=adv_nxt']"
      ]
     },
     "execution_count": 103,
     "metadata": {},
     "output_type": "execute_result"
    }
   ],
   "source": [
    "url_list = ['https://www.imdb.com/search/title/?count=100&groups=top_1000&sort=user_rating']\n",
    "\n",
    "for i in range(101, 1001, 100):\n",
    "    url = 'https://www.imdb.com/search/title/?groups=top_1000&sort=user_rating,desc&count=100&start={}&ref_=adv_nxt'\n",
    "    formated_url = url.format(str(i))\n",
    "    url_list.append(formated_url)\n",
    "url_list"
   ]
  },
  {
   "cell_type": "markdown",
   "id": "0decae44",
   "metadata": {},
   "source": [
    "### Hàm lấy dữ liệu từ url cho trước và trả về một list"
   ]
  },
  {
   "cell_type": "code",
   "execution_count": 211,
   "id": "4057b5eb",
   "metadata": {
    "scrolled": false
   },
   "outputs": [],
   "source": [
    "def get_movies_from_url(url, data):\n",
    "    \n",
    "    html_text = requests.get(url, headers = headers).text\n",
    "    soup = BeautifulSoup(html_text, 'lxml')\n",
    "    movies = soup.find_all('div', class_ = 'lister-item mode-advanced') \n",
    "    \n",
    "    for movie in movies:\n",
    "        \n",
    "        link_imdb = 'https://www.imdb.com' + movie.find('h3', class_ = 'lister-item-header').a['href']\n",
    "        \n",
    "        link_poster = movie.find('div', class_ = 'lister-item-image float-left').a.img['loadlate']\n",
    "        \n",
    "        title = movie.find('h3', class_ = 'lister-item-header').a.text\n",
    "        \n",
    "        year = movie.find('span', class_ = 'lister-item-year text-muted unbold').text\n",
    "        \n",
    "        certificate = movie.find('span', class_ = 'certificate').text.strip() if movie.find('span', class_ = 'certificate') else None\n",
    "        \n",
    "        runtime = movie.find('span', class_ = 'runtime').text.strip() \n",
    "        \n",
    "        genre = movie.find('span', class_ = 'genre').text.strip()\n",
    "        \n",
    "        rating = movie.find('div',class_= 'inline-block ratings-imdb-rating').strong.text\n",
    "        \n",
    "        meta_score = movie.find('span', class_ = 'metascore favorable').text.strip() if movie.find('span', class_ = 'metascore favorable') else None\n",
    "        \n",
    "        overview = movie.find_all('p', class_= 'text-muted')[1].text.strip()\n",
    "        \n",
    "        ds = movie.find('p', class_ = '').find_all('a')\n",
    "        director = ds[0].text\n",
    "        star_1 = ds[1].text\n",
    "        star_2 = ds[2].text\n",
    "        star_3 = ds[3].text\n",
    "        star_4 = ds[4].text\n",
    "        \n",
    "        nv = movie.find_all('span', attrs={'name':'nv'})\n",
    "        vote = nv[0].text\n",
    "        gross = nv[1].text if (len(nv) > 1) and (nv[1].text[0] != '#') else None  \n",
    "        \n",
    "        data.append([link_imdb, link_poster, title, year, certificate, \n",
    "                     runtime, genre, rating, meta_score, overview, \n",
    "                     director, star_1, star_2, star_3, star_4, vote, gross])"
   ]
  },
  {
   "cell_type": "markdown",
   "id": "963818ff",
   "metadata": {},
   "source": [
    "### Lấy dữ liệu từ các url trong danh sách và lưu vào list"
   ]
  },
  {
   "cell_type": "code",
   "execution_count": 110,
   "id": "27f66e1a",
   "metadata": {},
   "outputs": [],
   "source": [
    "data = []\n",
    "for url in url_list:\n",
    "    time.sleep(10)\n",
    "    get_movies_from_url(url, data)"
   ]
  },
  {
   "cell_type": "markdown",
   "id": "1e95a556",
   "metadata": {},
   "source": [
    "### Chuyển sang dataframe"
   ]
  },
  {
   "cell_type": "code",
   "execution_count": 178,
   "id": "2a46e83e",
   "metadata": {},
   "outputs": [],
   "source": [
    "df = pd.DataFrame(data, columns= [\"link_imdb\", \"link_poster\", \"title\", \"year\", \"certificate\"\n",
    "                                  , \"runtime\", \"genre\", \"rating\", \"meta_4score\", \"overview\"\n",
    "                                  , \"director\",\"star_1\", \"star_2\", \"star_3\", \"star_4\", \"vote\", \"gross\"])"
   ]
  },
  {
   "cell_type": "markdown",
   "id": "e65d3861",
   "metadata": {},
   "source": [
    "### Xuất ra file csv"
   ]
  },
  {
   "cell_type": "code",
   "execution_count": 179,
   "id": "2b3b953f",
   "metadata": {},
   "outputs": [],
   "source": [
    "df.to_csv('imdb_top_1000_movies.csv', index = False)"
   ]
  }
 ],
 "metadata": {
  "kernelspec": {
   "display_name": "Python 3 (ipykernel)",
   "language": "python",
   "name": "python3"
  },
  "language_info": {
   "codemirror_mode": {
    "name": "ipython",
    "version": 3
   },
   "file_extension": ".py",
   "mimetype": "text/x-python",
   "name": "python",
   "nbconvert_exporter": "python",
   "pygments_lexer": "ipython3",
   "version": "3.9.7"
  }
 },
 "nbformat": 4,
 "nbformat_minor": 5
}
