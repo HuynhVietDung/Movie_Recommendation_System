{
 "cells": [
  {
   "cell_type": "markdown",
   "id": "330c19bc",
   "metadata": {},
   "source": [
    "# Movie Recommendation System"
   ]
  },
  {
   "cell_type": "markdown",
   "id": "e17a152c",
   "metadata": {},
   "source": [
    "## 1.Khai báo thư viện và làm sạch dữ liệu"
   ]
  },
  {
   "cell_type": "code",
   "execution_count": 1,
   "id": "4912c77a",
   "metadata": {},
   "outputs": [],
   "source": [
    "# Khai báo các thư viện cần thiết\n",
    "import numpy as np\n",
    "import pandas as pd\n",
    "import matplotlib.pyplot as plt\n",
    "import seaborn as sns"
   ]
  },
  {
   "cell_type": "code",
   "execution_count": 2,
   "id": "842d2c11",
   "metadata": {},
   "outputs": [],
   "source": [
    "# Đọc dữ liệu từ file csv\n",
    "data = pd.read_csv('imdb_top_1000_movies.csv')"
   ]
  },
  {
   "cell_type": "code",
   "execution_count": 3,
   "id": "dfb2c2ab",
   "metadata": {},
   "outputs": [
    {
     "data": {
      "text/plain": [
       "(1000, 17)"
      ]
     },
     "execution_count": 3,
     "metadata": {},
     "output_type": "execute_result"
    }
   ],
   "source": [
    "data.shape"
   ]
  },
  {
   "cell_type": "markdown",
   "id": "94127e19",
   "metadata": {},
   "source": [
    "### 1.1 Dataset: Gồm có 1000 dòng và 17 cột\n",
    "\n",
    "* link_imdb: Link dẫn đến page của phim trên imdb\n",
    "* link_poster : link dẫn đến ảnh poster của phim\n",
    "* title: Tên của bộ phim\n",
    "* year: Năm phát hành\n",
    "* certificate: Chứng nhận phim nhận được\n",
    "* runtime: Tổng thời lượng phim (phút)\n",
    "* genre: Thể loại phim \n",
    "* rating: Điểm đánh giá phim tại imdb\n",
    "* meta_score: điểm đánh giá phim nhận được\n",
    "* overview: Tổng quan phim\n",
    "* director: Tên đạo diễn \n",
    "* star_1, star_2, star_3, star_4: Tên các diễn viên chính\n",
    "* votes: Tổng số lượt đánh giá của phim\n",
    "* gross: Tổng doanh thu của phim (triệu đô)"
   ]
  },
  {
   "cell_type": "code",
   "execution_count": 4,
   "id": "678e79c5",
   "metadata": {},
   "outputs": [
    {
     "data": {
      "text/html": [
       "<div>\n",
       "<style scoped>\n",
       "    .dataframe tbody tr th:only-of-type {\n",
       "        vertical-align: middle;\n",
       "    }\n",
       "\n",
       "    .dataframe tbody tr th {\n",
       "        vertical-align: top;\n",
       "    }\n",
       "\n",
       "    .dataframe thead th {\n",
       "        text-align: right;\n",
       "    }\n",
       "</style>\n",
       "<table border=\"1\" class=\"dataframe\">\n",
       "  <thead>\n",
       "    <tr style=\"text-align: right;\">\n",
       "      <th></th>\n",
       "      <th>link_imdb</th>\n",
       "      <th>link_poster</th>\n",
       "      <th>title</th>\n",
       "      <th>year</th>\n",
       "      <th>certificate</th>\n",
       "      <th>runtime</th>\n",
       "      <th>genre</th>\n",
       "      <th>rating</th>\n",
       "      <th>meta_score</th>\n",
       "      <th>overview</th>\n",
       "      <th>director</th>\n",
       "      <th>star_1</th>\n",
       "      <th>star_2</th>\n",
       "      <th>star_3</th>\n",
       "      <th>star_4</th>\n",
       "      <th>vote</th>\n",
       "      <th>gross</th>\n",
       "    </tr>\n",
       "  </thead>\n",
       "  <tbody>\n",
       "    <tr>\n",
       "      <th>0</th>\n",
       "      <td>https://www.imdb.com/title/tt0111161/</td>\n",
       "      <td>https://m.media-amazon.com/images/M/MV5BMDFkYT...</td>\n",
       "      <td>The Shawshank Redemption</td>\n",
       "      <td>(1994)</td>\n",
       "      <td>R</td>\n",
       "      <td>142 min</td>\n",
       "      <td>Drama</td>\n",
       "      <td>9.3</td>\n",
       "      <td>81.0</td>\n",
       "      <td>Two imprisoned men bond over a number of years...</td>\n",
       "      <td>Frank Darabont</td>\n",
       "      <td>Tim Robbins</td>\n",
       "      <td>Morgan Freeman</td>\n",
       "      <td>Bob Gunton</td>\n",
       "      <td>William Sadler</td>\n",
       "      <td>2,677,521</td>\n",
       "      <td>$28.34M</td>\n",
       "    </tr>\n",
       "    <tr>\n",
       "      <th>1</th>\n",
       "      <td>https://www.imdb.com/title/tt0068646/</td>\n",
       "      <td>https://m.media-amazon.com/images/M/MV5BM2MyNj...</td>\n",
       "      <td>The Godfather</td>\n",
       "      <td>(1972)</td>\n",
       "      <td>R</td>\n",
       "      <td>175 min</td>\n",
       "      <td>Crime, Drama</td>\n",
       "      <td>9.2</td>\n",
       "      <td>100.0</td>\n",
       "      <td>The aging patriarch of an organized crime dyna...</td>\n",
       "      <td>Francis Ford Coppola</td>\n",
       "      <td>Marlon Brando</td>\n",
       "      <td>Al Pacino</td>\n",
       "      <td>James Caan</td>\n",
       "      <td>Diane Keaton</td>\n",
       "      <td>1,856,101</td>\n",
       "      <td>$134.97M</td>\n",
       "    </tr>\n",
       "    <tr>\n",
       "      <th>2</th>\n",
       "      <td>https://www.imdb.com/title/tt0468569/</td>\n",
       "      <td>https://m.media-amazon.com/images/M/MV5BMTMxNT...</td>\n",
       "      <td>The Dark Knight</td>\n",
       "      <td>(2008)</td>\n",
       "      <td>PG-13</td>\n",
       "      <td>152 min</td>\n",
       "      <td>Action, Crime, Drama</td>\n",
       "      <td>9.0</td>\n",
       "      <td>84.0</td>\n",
       "      <td>When the menace known as the Joker wreaks havo...</td>\n",
       "      <td>Christopher Nolan</td>\n",
       "      <td>Christian Bale</td>\n",
       "      <td>Heath Ledger</td>\n",
       "      <td>Aaron Eckhart</td>\n",
       "      <td>Michael Caine</td>\n",
       "      <td>2,650,837</td>\n",
       "      <td>$534.86M</td>\n",
       "    </tr>\n",
       "    <tr>\n",
       "      <th>3</th>\n",
       "      <td>https://www.imdb.com/title/tt0167260/</td>\n",
       "      <td>https://m.media-amazon.com/images/M/MV5BNzA5ZD...</td>\n",
       "      <td>The Lord of the Rings: The Return of the King</td>\n",
       "      <td>(2003)</td>\n",
       "      <td>PG-13</td>\n",
       "      <td>201 min</td>\n",
       "      <td>Action, Adventure, Drama</td>\n",
       "      <td>9.0</td>\n",
       "      <td>94.0</td>\n",
       "      <td>Gandalf and Aragorn lead the World of Men agai...</td>\n",
       "      <td>Peter Jackson</td>\n",
       "      <td>Elijah Wood</td>\n",
       "      <td>Viggo Mortensen</td>\n",
       "      <td>Ian McKellen</td>\n",
       "      <td>Orlando Bloom</td>\n",
       "      <td>1,845,151</td>\n",
       "      <td>$377.85M</td>\n",
       "    </tr>\n",
       "    <tr>\n",
       "      <th>4</th>\n",
       "      <td>https://www.imdb.com/title/tt0108052/</td>\n",
       "      <td>https://m.media-amazon.com/images/M/MV5BNDE4OT...</td>\n",
       "      <td>Schindler's List</td>\n",
       "      <td>(1993)</td>\n",
       "      <td>R</td>\n",
       "      <td>195 min</td>\n",
       "      <td>Biography, Drama, History</td>\n",
       "      <td>9.0</td>\n",
       "      <td>94.0</td>\n",
       "      <td>In German-occupied Poland during World War II,...</td>\n",
       "      <td>Steven Spielberg</td>\n",
       "      <td>Liam Neeson</td>\n",
       "      <td>Ralph Fiennes</td>\n",
       "      <td>Ben Kingsley</td>\n",
       "      <td>Caroline Goodall</td>\n",
       "      <td>1,355,192</td>\n",
       "      <td>$96.90M</td>\n",
       "    </tr>\n",
       "  </tbody>\n",
       "</table>\n",
       "</div>"
      ],
      "text/plain": [
       "                               link_imdb  \\\n",
       "0  https://www.imdb.com/title/tt0111161/   \n",
       "1  https://www.imdb.com/title/tt0068646/   \n",
       "2  https://www.imdb.com/title/tt0468569/   \n",
       "3  https://www.imdb.com/title/tt0167260/   \n",
       "4  https://www.imdb.com/title/tt0108052/   \n",
       "\n",
       "                                         link_poster  \\\n",
       "0  https://m.media-amazon.com/images/M/MV5BMDFkYT...   \n",
       "1  https://m.media-amazon.com/images/M/MV5BM2MyNj...   \n",
       "2  https://m.media-amazon.com/images/M/MV5BMTMxNT...   \n",
       "3  https://m.media-amazon.com/images/M/MV5BNzA5ZD...   \n",
       "4  https://m.media-amazon.com/images/M/MV5BNDE4OT...   \n",
       "\n",
       "                                           title    year certificate  runtime  \\\n",
       "0                       The Shawshank Redemption  (1994)           R  142 min   \n",
       "1                                  The Godfather  (1972)           R  175 min   \n",
       "2                                The Dark Knight  (2008)       PG-13  152 min   \n",
       "3  The Lord of the Rings: The Return of the King  (2003)       PG-13  201 min   \n",
       "4                               Schindler's List  (1993)           R  195 min   \n",
       "\n",
       "                       genre  rating  meta_score  \\\n",
       "0                      Drama     9.3        81.0   \n",
       "1               Crime, Drama     9.2       100.0   \n",
       "2       Action, Crime, Drama     9.0        84.0   \n",
       "3   Action, Adventure, Drama     9.0        94.0   \n",
       "4  Biography, Drama, History     9.0        94.0   \n",
       "\n",
       "                                            overview              director  \\\n",
       "0  Two imprisoned men bond over a number of years...        Frank Darabont   \n",
       "1  The aging patriarch of an organized crime dyna...  Francis Ford Coppola   \n",
       "2  When the menace known as the Joker wreaks havo...     Christopher Nolan   \n",
       "3  Gandalf and Aragorn lead the World of Men agai...         Peter Jackson   \n",
       "4  In German-occupied Poland during World War II,...      Steven Spielberg   \n",
       "\n",
       "           star_1           star_2         star_3            star_4  \\\n",
       "0     Tim Robbins   Morgan Freeman     Bob Gunton    William Sadler   \n",
       "1   Marlon Brando        Al Pacino     James Caan      Diane Keaton   \n",
       "2  Christian Bale     Heath Ledger  Aaron Eckhart     Michael Caine   \n",
       "3     Elijah Wood  Viggo Mortensen   Ian McKellen     Orlando Bloom   \n",
       "4     Liam Neeson    Ralph Fiennes   Ben Kingsley  Caroline Goodall   \n",
       "\n",
       "        vote     gross  \n",
       "0  2,677,521   $28.34M  \n",
       "1  1,856,101  $134.97M  \n",
       "2  2,650,837  $534.86M  \n",
       "3  1,845,151  $377.85M  \n",
       "4  1,355,192   $96.90M  "
      ]
     },
     "execution_count": 4,
     "metadata": {},
     "output_type": "execute_result"
    }
   ],
   "source": [
    "data.head()"
   ]
  },
  {
   "cell_type": "code",
   "execution_count": 5,
   "id": "3ceeb5a9",
   "metadata": {},
   "outputs": [
    {
     "name": "stdout",
     "output_type": "stream",
     "text": [
      "<class 'pandas.core.frame.DataFrame'>\n",
      "RangeIndex: 1000 entries, 0 to 999\n",
      "Data columns (total 17 columns):\n",
      " #   Column       Non-Null Count  Dtype  \n",
      "---  ------       --------------  -----  \n",
      " 0   link_imdb    1000 non-null   object \n",
      " 1   link_poster  1000 non-null   object \n",
      " 2   title        1000 non-null   object \n",
      " 3   year         1000 non-null   object \n",
      " 4   certificate  984 non-null    object \n",
      " 5   runtime      1000 non-null   object \n",
      " 6   genre        1000 non-null   object \n",
      " 7   rating       1000 non-null   float64\n",
      " 8   meta_score   782 non-null    float64\n",
      " 9   overview     1000 non-null   object \n",
      " 10  director     1000 non-null   object \n",
      " 11  star_1       1000 non-null   object \n",
      " 12  star_2       1000 non-null   object \n",
      " 13  star_3       1000 non-null   object \n",
      " 14  star_4       1000 non-null   object \n",
      " 15  vote         1000 non-null   object \n",
      " 16  gross        812 non-null    object \n",
      "dtypes: float64(2), object(15)\n",
      "memory usage: 132.9+ KB\n"
     ]
    }
   ],
   "source": [
    "data.info()"
   ]
  },
  {
   "cell_type": "markdown",
   "id": "a5de0fe2",
   "metadata": {},
   "source": [
    "### 1.2 Làm sạch dữ liệu"
   ]
  },
  {
   "cell_type": "code",
   "execution_count": 6,
   "id": "bda65549",
   "metadata": {},
   "outputs": [
    {
     "data": {
      "text/plain": [
       "link_imdb        0\n",
       "link_poster      0\n",
       "title            0\n",
       "year             0\n",
       "certificate     16\n",
       "runtime          0\n",
       "genre            0\n",
       "rating           0\n",
       "meta_score     218\n",
       "overview         0\n",
       "director         0\n",
       "star_1           0\n",
       "star_2           0\n",
       "star_3           0\n",
       "star_4           0\n",
       "vote             0\n",
       "gross          188\n",
       "dtype: int64"
      ]
     },
     "execution_count": 6,
     "metadata": {},
     "output_type": "execute_result"
    }
   ],
   "source": [
    "data.isna().sum()"
   ]
  },
  {
   "cell_type": "code",
   "execution_count": 7,
   "id": "318b988c",
   "metadata": {},
   "outputs": [],
   "source": [
    "data['certificate'].fillna('', inplace = True)"
   ]
  },
  {
   "cell_type": "code",
   "execution_count": 8,
   "id": "15dc9e54",
   "metadata": {},
   "outputs": [],
   "source": [
    "data['meta_score'].fillna(data['meta_score'].mean(), inplace = True)"
   ]
  },
  {
   "cell_type": "code",
   "execution_count": 9,
   "id": "e00675d8",
   "metadata": {},
   "outputs": [],
   "source": [
    "data['gross'] = data['gross'].apply(lambda x: float(str(x).lstrip('$').rstrip('M')) if x is not None else x)\n",
    "data['gross'].fillna(data['gross'].mean(), inplace = True)"
   ]
  },
  {
   "cell_type": "code",
   "execution_count": 10,
   "id": "0228cfd3",
   "metadata": {},
   "outputs": [],
   "source": [
    "data['year'] = data['year'].apply(lambda x: str(x).replace('(', '').replace(')', ''))"
   ]
  },
  {
   "cell_type": "code",
   "execution_count": 11,
   "id": "7a4c907b",
   "metadata": {},
   "outputs": [],
   "source": [
    "data['year'] = data['year'].apply(lambda x: int(x[-4:]) if len(x) > 4 else int(x))"
   ]
  },
  {
   "cell_type": "code",
   "execution_count": 12,
   "id": "77f57668",
   "metadata": {},
   "outputs": [
    {
     "data": {
      "text/plain": [
       "0      1994\n",
       "1      1972\n",
       "2      2008\n",
       "3      2003\n",
       "4      1993\n",
       "       ... \n",
       "995    1954\n",
       "996    1953\n",
       "997    1937\n",
       "998    1935\n",
       "999    1933\n",
       "Name: year, Length: 1000, dtype: int64"
      ]
     },
     "execution_count": 12,
     "metadata": {},
     "output_type": "execute_result"
    }
   ],
   "source": [
    "data['year']"
   ]
  },
  {
   "cell_type": "code",
   "execution_count": 13,
   "id": "6cc7dbc7",
   "metadata": {},
   "outputs": [],
   "source": [
    "data['vote'] = data['vote'].apply(lambda x: int(str(x).replace(',','')))"
   ]
  },
  {
   "cell_type": "markdown",
   "id": "ba71ad55",
   "metadata": {},
   "source": [
    "## 2.Phân tích bộ dữ liệu:"
   ]
  },
  {
   "cell_type": "code",
   "execution_count": 14,
   "id": "e95fad3a",
   "metadata": {},
   "outputs": [
    {
     "data": {
      "text/html": [
       "<div>\n",
       "<style scoped>\n",
       "    .dataframe tbody tr th:only-of-type {\n",
       "        vertical-align: middle;\n",
       "    }\n",
       "\n",
       "    .dataframe tbody tr th {\n",
       "        vertical-align: top;\n",
       "    }\n",
       "\n",
       "    .dataframe thead th {\n",
       "        text-align: right;\n",
       "    }\n",
       "</style>\n",
       "<table border=\"1\" class=\"dataframe\">\n",
       "  <thead>\n",
       "    <tr style=\"text-align: right;\">\n",
       "      <th></th>\n",
       "      <th>year</th>\n",
       "      <th>rating</th>\n",
       "      <th>meta_score</th>\n",
       "      <th>vote</th>\n",
       "      <th>gross</th>\n",
       "    </tr>\n",
       "  </thead>\n",
       "  <tbody>\n",
       "    <tr>\n",
       "      <th>count</th>\n",
       "      <td>1000.000000</td>\n",
       "      <td>1000.000000</td>\n",
       "      <td>1000.000000</td>\n",
       "      <td>1.000000e+03</td>\n",
       "      <td>1000.000000</td>\n",
       "    </tr>\n",
       "    <tr>\n",
       "      <th>mean</th>\n",
       "      <td>1991.424000</td>\n",
       "      <td>7.968200</td>\n",
       "      <td>80.740409</td>\n",
       "      <td>3.080789e+05</td>\n",
       "      <td>69.250899</td>\n",
       "    </tr>\n",
       "    <tr>\n",
       "      <th>std</th>\n",
       "      <td>24.067311</td>\n",
       "      <td>0.277247</td>\n",
       "      <td>8.684799</td>\n",
       "      <td>3.726582e+05</td>\n",
       "      <td>101.409413</td>\n",
       "    </tr>\n",
       "    <tr>\n",
       "      <th>min</th>\n",
       "      <td>1920.000000</td>\n",
       "      <td>7.600000</td>\n",
       "      <td>61.000000</td>\n",
       "      <td>2.556900e+04</td>\n",
       "      <td>0.000000</td>\n",
       "    </tr>\n",
       "    <tr>\n",
       "      <th>25%</th>\n",
       "      <td>1975.000000</td>\n",
       "      <td>7.800000</td>\n",
       "      <td>75.000000</td>\n",
       "      <td>5.912975e+04</td>\n",
       "      <td>5.010000</td>\n",
       "    </tr>\n",
       "    <tr>\n",
       "      <th>50%</th>\n",
       "      <td>1999.000000</td>\n",
       "      <td>7.900000</td>\n",
       "      <td>80.740409</td>\n",
       "      <td>1.514315e+05</td>\n",
       "      <td>44.865000</td>\n",
       "    </tr>\n",
       "    <tr>\n",
       "      <th>75%</th>\n",
       "      <td>2010.000000</td>\n",
       "      <td>8.100000</td>\n",
       "      <td>86.000000</td>\n",
       "      <td>4.269145e+05</td>\n",
       "      <td>69.250899</td>\n",
       "    </tr>\n",
       "    <tr>\n",
       "      <th>max</th>\n",
       "      <td>2022.000000</td>\n",
       "      <td>9.300000</td>\n",
       "      <td>100.000000</td>\n",
       "      <td>2.677521e+06</td>\n",
       "      <td>936.660000</td>\n",
       "    </tr>\n",
       "  </tbody>\n",
       "</table>\n",
       "</div>"
      ],
      "text/plain": [
       "              year       rating   meta_score          vote        gross\n",
       "count  1000.000000  1000.000000  1000.000000  1.000000e+03  1000.000000\n",
       "mean   1991.424000     7.968200    80.740409  3.080789e+05    69.250899\n",
       "std      24.067311     0.277247     8.684799  3.726582e+05   101.409413\n",
       "min    1920.000000     7.600000    61.000000  2.556900e+04     0.000000\n",
       "25%    1975.000000     7.800000    75.000000  5.912975e+04     5.010000\n",
       "50%    1999.000000     7.900000    80.740409  1.514315e+05    44.865000\n",
       "75%    2010.000000     8.100000    86.000000  4.269145e+05    69.250899\n",
       "max    2022.000000     9.300000   100.000000  2.677521e+06   936.660000"
      ]
     },
     "execution_count": 14,
     "metadata": {},
     "output_type": "execute_result"
    }
   ],
   "source": [
    "data.describe()"
   ]
  },
  {
   "cell_type": "code",
   "execution_count": 15,
   "id": "6b706e11",
   "metadata": {},
   "outputs": [
    {
     "data": {
      "text/plain": [
       "<AxesSubplot:xlabel='certificate', ylabel='count'>"
      ]
     },
     "execution_count": 15,
     "metadata": {},
     "output_type": "execute_result"
    },
    {
     "data": {
      "image/png": "[encoded data removed]",
      "text/plain": [
       "<Figure size 720x504 with 1 Axes>"
      ]
     },
     "metadata": {
      "needs_background": "light"
     },
     "output_type": "display_data"
    }
   ],
   "source": [
    "# Số lượng các chứng chỉ phim theo từng loại\n",
    "plt.figure(figsize = (10, 7))\n",
    "sns.countplot(x=data['certificate'])"
   ]
  },
  {
   "cell_type": "code",
   "execution_count": 16,
   "id": "98f3bd52",
   "metadata": {},
   "outputs": [
    {
     "data": {
      "text/plain": [
       "[<matplotlib.lines.Line2D at 0x7f84600ba040>]"
      ]
     },
     "execution_count": 16,
     "metadata": {},
     "output_type": "execute_result"
    },
    {
     "data": {
      "image/png": "[encoded data removed]",
      "text/plain": [
       "<Figure size 720x504 with 1 Axes>"
      ]
     },
     "metadata": {
      "needs_background": "light"
     },
     "output_type": "display_data"
    }
   ],
   "source": [
    "# Số lượng phim qua các năm \n",
    "plt.figure(figsize = (10, 7))\n",
    "x = sorted(data['year'].drop_duplicates())\n",
    "plt.plot(x , data['year'].value_counts()[x])"
   ]
  },
  {
   "cell_type": "code",
   "execution_count": 17,
   "id": "b7e9d6c1",
   "metadata": {},
   "outputs": [
    {
     "data": {
      "text/plain": [
       "<AxesSubplot:xlabel='gross', ylabel='Density'>"
      ]
     },
     "execution_count": 17,
     "metadata": {},
     "output_type": "execute_result"
    },
    {
     "data": {
      "image/png": "[encoded data removed]",
      "text/plain": [
       "<Figure size 720x504 with 1 Axes>"
      ]
     },
     "metadata": {
      "needs_background": "light"
     },
     "output_type": "display_data"
    }
   ],
   "source": [
    "plt.figure(figsize = (10, 7))\n",
    "sns.histplot(data['gross'], stat='density')"
   ]
  },
  {
   "cell_type": "code",
   "execution_count": 18,
   "id": "6143a601",
   "metadata": {},
   "outputs": [
    {
     "data": {
      "text/plain": [
       "<AxesSubplot:xlabel='vote', ylabel='Density'>"
      ]
     },
     "execution_count": 18,
     "metadata": {},
     "output_type": "execute_result"
    },
    {
     "data": {
      "image/png": "[encoded data removed]",
      "text/plain": [
       "<Figure size 720x504 with 1 Axes>"
      ]
     },
     "metadata": {
      "needs_background": "light"
     },
     "output_type": "display_data"
    }
   ],
   "source": [
    "plt.figure(figsize = (10, 7))\n",
    "sns.histplot(data['vote'], stat='density')"
   ]
  },
  {
   "cell_type": "code",
   "execution_count": 19,
   "id": "c03215f3",
   "metadata": {},
   "outputs": [
    {
     "data": {
      "text/plain": [
       "<AxesSubplot:xlabel='meta_score', ylabel='Density'>"
      ]
     },
     "execution_count": 19,
     "metadata": {},
     "output_type": "execute_result"
    },
    {
     "data": {
      "image/png": "[encoded data removed]",
      "text/plain": [
       "<Figure size 720x504 with 1 Axes>"
      ]
     },
     "metadata": {
      "needs_background": "light"
     },
     "output_type": "display_data"
    }
   ],
   "source": [
    "plt.figure(figsize = (10, 7))\n",
    "sns.histplot(data['meta_score'], stat='density')"
   ]
  },
  {
   "cell_type": "markdown",
   "id": "893378dc",
   "metadata": {},
   "source": [
    "## 2. Thuật toán đề xuất:"
   ]
  },
  {
   "cell_type": "markdown",
   "id": "135e8b87",
   "metadata": {},
   "source": [
    "### 2.1 Đề xuất đơn giản :"
   ]
  },
  {
   "cell_type": "markdown",
   "id": "529bc7b1",
   "metadata": {},
   "source": [
    "Đây là đề xuất mang tính chung cho tất cả mọi người, dựa trên kết quả đánh giá điểm số (cụ thể ở đây là điểm rating). Kết quả trả về là những bộ phim có điểm số cao nhất."
   ]
  },
  {
   "cell_type": "code",
   "execution_count": 11,
   "id": "d5b76ecc",
   "metadata": {},
   "outputs": [
    {
     "data": {
      "text/html": [
       "<div>\n",
       "<style scoped>\n",
       "    .dataframe tbody tr th:only-of-type {\n",
       "        vertical-align: middle;\n",
       "    }\n",
       "\n",
       "    .dataframe tbody tr th {\n",
       "        vertical-align: top;\n",
       "    }\n",
       "\n",
       "    .dataframe thead th {\n",
       "        text-align: right;\n",
       "    }\n",
       "</style>\n",
       "<table border=\"1\" class=\"dataframe\">\n",
       "  <thead>\n",
       "    <tr style=\"text-align: right;\">\n",
       "      <th></th>\n",
       "      <th>link_imdb</th>\n",
       "      <th>link_poster</th>\n",
       "      <th>title</th>\n",
       "      <th>year</th>\n",
       "      <th>certificate</th>\n",
       "      <th>runtime</th>\n",
       "      <th>genre</th>\n",
       "      <th>rating</th>\n",
       "      <th>meta_score</th>\n",
       "      <th>overview</th>\n",
       "      <th>director</th>\n",
       "      <th>star_1</th>\n",
       "      <th>star_2</th>\n",
       "      <th>star_3</th>\n",
       "      <th>star_4</th>\n",
       "      <th>vote</th>\n",
       "      <th>gross</th>\n",
       "    </tr>\n",
       "  </thead>\n",
       "  <tbody>\n",
       "    <tr>\n",
       "      <th>0</th>\n",
       "      <td>https://www.imdb.com/title/tt0111161/</td>\n",
       "      <td>https://m.media-amazon.com/images/M/MV5BMDFkYT...</td>\n",
       "      <td>The Shawshank Redemption</td>\n",
       "      <td>1994</td>\n",
       "      <td>R</td>\n",
       "      <td>142 min</td>\n",
       "      <td>Drama</td>\n",
       "      <td>9.3</td>\n",
       "      <td>81.0</td>\n",
       "      <td>Two imprisoned men bond over a number of years...</td>\n",
       "      <td>Frank Darabont</td>\n",
       "      <td>Tim Robbins</td>\n",
       "      <td>Morgan Freeman</td>\n",
       "      <td>Bob Gunton</td>\n",
       "      <td>William Sadler</td>\n",
       "      <td>2,677,521</td>\n",
       "      <td>28.34</td>\n",
       "    </tr>\n",
       "    <tr>\n",
       "      <th>1</th>\n",
       "      <td>https://www.imdb.com/title/tt0068646/</td>\n",
       "      <td>https://m.media-amazon.com/images/M/MV5BM2MyNj...</td>\n",
       "      <td>The Godfather</td>\n",
       "      <td>1972</td>\n",
       "      <td>R</td>\n",
       "      <td>175 min</td>\n",
       "      <td>Crime, Drama</td>\n",
       "      <td>9.2</td>\n",
       "      <td>100.0</td>\n",
       "      <td>The aging patriarch of an organized crime dyna...</td>\n",
       "      <td>Francis Ford Coppola</td>\n",
       "      <td>Marlon Brando</td>\n",
       "      <td>Al Pacino</td>\n",
       "      <td>James Caan</td>\n",
       "      <td>Diane Keaton</td>\n",
       "      <td>1,856,101</td>\n",
       "      <td>134.97</td>\n",
       "    </tr>\n",
       "    <tr>\n",
       "      <th>2</th>\n",
       "      <td>https://www.imdb.com/title/tt0468569/</td>\n",
       "      <td>https://m.media-amazon.com/images/M/MV5BMTMxNT...</td>\n",
       "      <td>The Dark Knight</td>\n",
       "      <td>2008</td>\n",
       "      <td>PG-13</td>\n",
       "      <td>152 min</td>\n",
       "      <td>Action, Crime, Drama</td>\n",
       "      <td>9.0</td>\n",
       "      <td>84.0</td>\n",
       "      <td>When the menace known as the Joker wreaks havo...</td>\n",
       "      <td>Christopher Nolan</td>\n",
       "      <td>Christian Bale</td>\n",
       "      <td>Heath Ledger</td>\n",
       "      <td>Aaron Eckhart</td>\n",
       "      <td>Michael Caine</td>\n",
       "      <td>2,650,837</td>\n",
       "      <td>534.86</td>\n",
       "    </tr>\n",
       "    <tr>\n",
       "      <th>3</th>\n",
       "      <td>https://www.imdb.com/title/tt0167260/</td>\n",
       "      <td>https://m.media-amazon.com/images/M/MV5BNzA5ZD...</td>\n",
       "      <td>The Lord of the Rings: The Return of the King</td>\n",
       "      <td>2003</td>\n",
       "      <td>PG-13</td>\n",
       "      <td>201 min</td>\n",
       "      <td>Action, Adventure, Drama</td>\n",
       "      <td>9.0</td>\n",
       "      <td>94.0</td>\n",
       "      <td>Gandalf and Aragorn lead the World of Men agai...</td>\n",
       "      <td>Peter Jackson</td>\n",
       "      <td>Elijah Wood</td>\n",
       "      <td>Viggo Mortensen</td>\n",
       "      <td>Ian McKellen</td>\n",
       "      <td>Orlando Bloom</td>\n",
       "      <td>1,845,151</td>\n",
       "      <td>377.85</td>\n",
       "    </tr>\n",
       "    <tr>\n",
       "      <th>4</th>\n",
       "      <td>https://www.imdb.com/title/tt0108052/</td>\n",
       "      <td>https://m.media-amazon.com/images/M/MV5BNDE4OT...</td>\n",
       "      <td>Schindler's List</td>\n",
       "      <td>1993</td>\n",
       "      <td>R</td>\n",
       "      <td>195 min</td>\n",
       "      <td>Biography, Drama, History</td>\n",
       "      <td>9.0</td>\n",
       "      <td>94.0</td>\n",
       "      <td>In German-occupied Poland during World War II,...</td>\n",
       "      <td>Steven Spielberg</td>\n",
       "      <td>Liam Neeson</td>\n",
       "      <td>Ralph Fiennes</td>\n",
       "      <td>Ben Kingsley</td>\n",
       "      <td>Caroline Goodall</td>\n",
       "      <td>1,355,192</td>\n",
       "      <td>96.90</td>\n",
       "    </tr>\n",
       "    <tr>\n",
       "      <th>5</th>\n",
       "      <td>https://www.imdb.com/title/tt0071562/</td>\n",
       "      <td>https://m.media-amazon.com/images/M/MV5BMWMwMG...</td>\n",
       "      <td>The Godfather Part II</td>\n",
       "      <td>1974</td>\n",
       "      <td>R</td>\n",
       "      <td>202 min</td>\n",
       "      <td>Crime, Drama</td>\n",
       "      <td>9.0</td>\n",
       "      <td>90.0</td>\n",
       "      <td>The early life and career of Vito Corleone in ...</td>\n",
       "      <td>Francis Ford Coppola</td>\n",
       "      <td>Al Pacino</td>\n",
       "      <td>Robert De Niro</td>\n",
       "      <td>Robert Duvall</td>\n",
       "      <td>Diane Keaton</td>\n",
       "      <td>1,270,642</td>\n",
       "      <td>57.30</td>\n",
       "    </tr>\n",
       "    <tr>\n",
       "      <th>6</th>\n",
       "      <td>https://www.imdb.com/title/tt0050083/</td>\n",
       "      <td>https://m.media-amazon.com/images/M/MV5BMWU4N2...</td>\n",
       "      <td>12 Angry Men</td>\n",
       "      <td>1957</td>\n",
       "      <td>Approved</td>\n",
       "      <td>96 min</td>\n",
       "      <td>Crime, Drama</td>\n",
       "      <td>9.0</td>\n",
       "      <td>96.0</td>\n",
       "      <td>The jury in a New York City murder trial is fr...</td>\n",
       "      <td>Sidney Lumet</td>\n",
       "      <td>Henry Fonda</td>\n",
       "      <td>Lee J. Cobb</td>\n",
       "      <td>Martin Balsam</td>\n",
       "      <td>John Fiedler</td>\n",
       "      <td>790,982</td>\n",
       "      <td>4.36</td>\n",
       "    </tr>\n",
       "    <tr>\n",
       "      <th>7</th>\n",
       "      <td>https://www.imdb.com/title/tt7466810/</td>\n",
       "      <td>https://m.media-amazon.com/images/M/MV5BMDhhMj...</td>\n",
       "      <td>777 Charlie</td>\n",
       "      <td>2022</td>\n",
       "      <td></td>\n",
       "      <td>164 min</td>\n",
       "      <td>Adventure, Comedy, Drama</td>\n",
       "      <td>8.9</td>\n",
       "      <td>0.0</td>\n",
       "      <td>Dharma is stuck in a rut with his negative and...</td>\n",
       "      <td>Kiranraj K</td>\n",
       "      <td>Rakshit Shetty</td>\n",
       "      <td>Charlie</td>\n",
       "      <td>Sangeetha Sringeri</td>\n",
       "      <td>Raj B. Shetty</td>\n",
       "      <td>31,912</td>\n",
       "      <td>0.00</td>\n",
       "    </tr>\n",
       "    <tr>\n",
       "      <th>8</th>\n",
       "      <td>https://www.imdb.com/title/tt0110912/</td>\n",
       "      <td>https://m.media-amazon.com/images/M/MV5BNGNhMD...</td>\n",
       "      <td>Pulp Fiction</td>\n",
       "      <td>1994</td>\n",
       "      <td>R</td>\n",
       "      <td>154 min</td>\n",
       "      <td>Crime, Drama</td>\n",
       "      <td>8.9</td>\n",
       "      <td>94.0</td>\n",
       "      <td>The lives of two mob hitmen, a boxer, a gangst...</td>\n",
       "      <td>Quentin Tarantino</td>\n",
       "      <td>John Travolta</td>\n",
       "      <td>Uma Thurman</td>\n",
       "      <td>Samuel L. Jackson</td>\n",
       "      <td>Bruce Willis</td>\n",
       "      <td>2,053,058</td>\n",
       "      <td>107.93</td>\n",
       "    </tr>\n",
       "    <tr>\n",
       "      <th>9</th>\n",
       "      <td>https://www.imdb.com/title/tt9263550/</td>\n",
       "      <td>https://m.media-amazon.com/images/M/MV5BNTk2Mj...</td>\n",
       "      <td>Rocketry: The Nambi Effect</td>\n",
       "      <td>2022</td>\n",
       "      <td></td>\n",
       "      <td>157 min</td>\n",
       "      <td>Biography, Drama</td>\n",
       "      <td>8.8</td>\n",
       "      <td>0.0</td>\n",
       "      <td>Based on the life of Indian Space Research Org...</td>\n",
       "      <td>Madhavan</td>\n",
       "      <td>Madhavan</td>\n",
       "      <td>Simran</td>\n",
       "      <td>Rajit Kapoor</td>\n",
       "      <td>Ravi Raghavendra</td>\n",
       "      <td>50,754</td>\n",
       "      <td>0.00</td>\n",
       "    </tr>\n",
       "  </tbody>\n",
       "</table>\n",
       "</div>"
      ],
      "text/plain": [
       "                               link_imdb  \\\n",
       "0  https://www.imdb.com/title/tt0111161/   \n",
       "1  https://www.imdb.com/title/tt0068646/   \n",
       "2  https://www.imdb.com/title/tt0468569/   \n",
       "3  https://www.imdb.com/title/tt0167260/   \n",
       "4  https://www.imdb.com/title/tt0108052/   \n",
       "5  https://www.imdb.com/title/tt0071562/   \n",
       "6  https://www.imdb.com/title/tt0050083/   \n",
       "7  https://www.imdb.com/title/tt7466810/   \n",
       "8  https://www.imdb.com/title/tt0110912/   \n",
       "9  https://www.imdb.com/title/tt9263550/   \n",
       "\n",
       "                                         link_poster  \\\n",
       "0  https://m.media-amazon.com/images/M/MV5BMDFkYT...   \n",
       "1  https://m.media-amazon.com/images/M/MV5BM2MyNj...   \n",
       "2  https://m.media-amazon.com/images/M/MV5BMTMxNT...   \n",
       "3  https://m.media-amazon.com/images/M/MV5BNzA5ZD...   \n",
       "4  https://m.media-amazon.com/images/M/MV5BNDE4OT...   \n",
       "5  https://m.media-amazon.com/images/M/MV5BMWMwMG...   \n",
       "6  https://m.media-amazon.com/images/M/MV5BMWU4N2...   \n",
       "7  https://m.media-amazon.com/images/M/MV5BMDhhMj...   \n",
       "8  https://m.media-amazon.com/images/M/MV5BNGNhMD...   \n",
       "9  https://m.media-amazon.com/images/M/MV5BNTk2Mj...   \n",
       "\n",
       "                                           title  year certificate  runtime  \\\n",
       "0                       The Shawshank Redemption  1994           R  142 min   \n",
       "1                                  The Godfather  1972           R  175 min   \n",
       "2                                The Dark Knight  2008       PG-13  152 min   \n",
       "3  The Lord of the Rings: The Return of the King  2003       PG-13  201 min   \n",
       "4                               Schindler's List  1993           R  195 min   \n",
       "5                          The Godfather Part II  1974           R  202 min   \n",
       "6                                   12 Angry Men  1957    Approved   96 min   \n",
       "7                                    777 Charlie  2022              164 min   \n",
       "8                                   Pulp Fiction  1994           R  154 min   \n",
       "9                     Rocketry: The Nambi Effect  2022              157 min   \n",
       "\n",
       "                       genre  rating  meta_score  \\\n",
       "0                      Drama     9.3        81.0   \n",
       "1               Crime, Drama     9.2       100.0   \n",
       "2       Action, Crime, Drama     9.0        84.0   \n",
       "3   Action, Adventure, Drama     9.0        94.0   \n",
       "4  Biography, Drama, History     9.0        94.0   \n",
       "5               Crime, Drama     9.0        90.0   \n",
       "6               Crime, Drama     9.0        96.0   \n",
       "7   Adventure, Comedy, Drama     8.9         0.0   \n",
       "8               Crime, Drama     8.9        94.0   \n",
       "9           Biography, Drama     8.8         0.0   \n",
       "\n",
       "                                            overview              director  \\\n",
       "0  Two imprisoned men bond over a number of years...        Frank Darabont   \n",
       "1  The aging patriarch of an organized crime dyna...  Francis Ford Coppola   \n",
       "2  When the menace known as the Joker wreaks havo...     Christopher Nolan   \n",
       "3  Gandalf and Aragorn lead the World of Men agai...         Peter Jackson   \n",
       "4  In German-occupied Poland during World War II,...      Steven Spielberg   \n",
       "5  The early life and career of Vito Corleone in ...  Francis Ford Coppola   \n",
       "6  The jury in a New York City murder trial is fr...          Sidney Lumet   \n",
       "7  Dharma is stuck in a rut with his negative and...            Kiranraj K   \n",
       "8  The lives of two mob hitmen, a boxer, a gangst...     Quentin Tarantino   \n",
       "9  Based on the life of Indian Space Research Org...              Madhavan   \n",
       "\n",
       "           star_1           star_2              star_3            star_4  \\\n",
       "0     Tim Robbins   Morgan Freeman          Bob Gunton    William Sadler   \n",
       "1   Marlon Brando        Al Pacino          James Caan      Diane Keaton   \n",
       "2  Christian Bale     Heath Ledger       Aaron Eckhart     Michael Caine   \n",
       "3     Elijah Wood  Viggo Mortensen        Ian McKellen     Orlando Bloom   \n",
       "4     Liam Neeson    Ralph Fiennes        Ben Kingsley  Caroline Goodall   \n",
       "5       Al Pacino   Robert De Niro       Robert Duvall      Diane Keaton   \n",
       "6     Henry Fonda      Lee J. Cobb       Martin Balsam      John Fiedler   \n",
       "7  Rakshit Shetty          Charlie  Sangeetha Sringeri     Raj B. Shetty   \n",
       "8   John Travolta      Uma Thurman   Samuel L. Jackson      Bruce Willis   \n",
       "9        Madhavan           Simran        Rajit Kapoor  Ravi Raghavendra   \n",
       "\n",
       "        vote   gross  \n",
       "0  2,677,521   28.34  \n",
       "1  1,856,101  134.97  \n",
       "2  2,650,837  534.86  \n",
       "3  1,845,151  377.85  \n",
       "4  1,355,192   96.90  \n",
       "5  1,270,642   57.30  \n",
       "6    790,982    4.36  \n",
       "7     31,912    0.00  \n",
       "8  2,053,058  107.93  \n",
       "9     50,754    0.00  "
      ]
     },
     "execution_count": 11,
     "metadata": {},
     "output_type": "execute_result"
    }
   ],
   "source": [
    "# top 10 phim có điểm rating cao nhất \n",
    "index = data['rating'][:10].index\n",
    "data.iloc[index]"
   ]
  },
  {
   "cell_type": "markdown",
   "id": "ce2793cc",
   "metadata": {},
   "source": [
    "### 2.2 Các phương pháp chính"
   ]
  },
  {
   "cell_type": "markdown",
   "id": "ebaf19e2",
   "metadata": {},
   "source": [
    "Có hai phương pháp chính: \n",
    "* Đề xuất dựa trên nội dung (Content Based Filtering): Gợi ý các item dựa vào hồ sơ (profiles) của người dùng hoặc dựa vào nội dung/thuộc tính (attributes) của những item tương tự như item mà người dùng đã chọn trong quá khứ\n",
    "* Đề xuất dựa trên sự tương quan (Collaborative Filtering): Gợi ý các items dựa trên sự tương quan (similarity) giữa các users và/hoặc items. Có thể hiểu rằng đây là cách gợi ý tới một user dựa trên những users có hành vi tương tự.\n",
    "![](https://www.researchgate.net/profile/Lionel-Tondji/publication/323726564/figure/fig5/AS:631605009846299@1527597777415/Content-based-filtering-vs-Collaborative-filtering-Source.png)\n",
    "Chi tiết các thuật toán: \n",
    "* https://viblo.asia/p/tim-hieu-ve-content-based-filtering-phuong-phap-goi-y-dua-theo-noi-dung-phan-1-V3m5WGBg5O7\n",
    "* https://machinelearningcoban.com/2017/05/17/contentbasedrecommendersys/"
   ]
  },
  {
   "cell_type": "markdown",
   "id": "f63a27b1",
   "metadata": {},
   "source": [
    "### 2.3 Đề xuất dựa trên nội dung (Content Based Filtering)\n"
   ]
  },
  {
   "cell_type": "markdown",
   "id": "4dd000bb",
   "metadata": {},
   "source": [
    "Trong các hệ thống content-based, chúng ta cần xây dựng một bộ hồ sơ (profile) cho mỗi item. \n",
    "Profile này được biểu diễn dưới dạng toán học là một \"feature vector\" n chiều. Trong những trường hợp đơn giản, feature vector được trực tiếp trích xuất từ item. \n",
    "Từ đó chúng ta có thể xác định các item có nội dung tương tự bằng cách tính độ tương đồng giữa các feature vector của chúng.\n",
    "\n",
    "Một số phương pháp thường được sử dụng để xây dựng feature vector là:\n",
    "* Sử dụng TF-IDF\n",
    "* Sử dụng biểu diễn nhị phân\n",
    "\n",
    "Trong bài này, chúng ta sẽ sử dụng TF-IDF vector.\n",
    "\n",
    "**TF (Term Frequency)** là tần suất tương đối của một từ trong tài liệu và được cho dưới dạng (số trường hợp thuật ngữ/số trường hợp tổng số).\n",
    "\n",
    "**TF(t, d) = (số lần từ t xuất hiện trong văn bản d)/(tổng số từ trong văn bản d)**.\n",
    "\n",
    "**IDF (Inverse Document Frequency)** hay nghịch đảo tần suất tài liệu dùng để ước lượng mức độ quan trọng của từ đó như thế nào. Khi tính tần số xuất hiện tf thì các từ đều được coi là quan trọng như nhau. Tuy nhiên có một số từ thường được được sử dụng nhiều nhưng không quan trọng để thể hiện ý nghĩa của đoạn văn.Điều này được thực hiện để giảm tầm quan trọng của các từ này trong việc tính toán điểm tương đồng cuối cùng.\n",
    "\n",
    "**IDF(t, D) = log_e( Tổng số văn bản trong tập mẫu D/ Số văn bản có chứa từ t)**.\n",
    "\n",
    "Tầm quan trọng tổng thể của mỗi từ đối với các tài liệu mà chúng xuất hiện bằng **TF * IDF**"
   ]
  },
  {
   "cell_type": "markdown",
   "id": "2c4f4f36",
   "metadata": {},
   "source": [
    "Bài viết chi tiết, ví dụ về TF-IDF và Consine Similarity: https://thanhvie.com/tf-idf-va-cosine-similarity/"
   ]
  },
  {
   "cell_type": "markdown",
   "id": "14b0de54",
   "metadata": {},
   "source": [
    "### 2.3.1 Đề xuất dựa trên độ giống nhau giữa các phần 'Overview'\n",
    "\n",
    "Ta sẽ đi tìm những bộ phim có nội dung phần overview tương tự nhau:"
   ]
  },
  {
   "cell_type": "markdown",
   "id": "79748ddd",
   "metadata": {},
   "source": [
    "**Sử dụng Class TfIdfVectorizer tạo ra ma trận TF - IDF:**"
   ]
  },
  {
   "cell_type": "code",
   "execution_count": 12,
   "id": "6d0cdcdd",
   "metadata": {},
   "outputs": [
    {
     "data": {
      "text/plain": [
       "(1000, 5590)"
      ]
     },
     "execution_count": 12,
     "metadata": {},
     "output_type": "execute_result"
    }
   ],
   "source": [
    "#Import TfIdfVectorizer from scikit-learn\n",
    "from sklearn.feature_extraction.text import TfidfVectorizer\n",
    "\n",
    "# Định nghĩa đối tượng TF-IDF Vectorizer. Loại bỏ các từ không quan trọng như 'the', 'a'\n",
    "tfidf = TfidfVectorizer(stop_words='english')\n",
    "\n",
    "# Xây dựng ma trận TF-IDF \n",
    "tfidf_matrix = tfidf.fit_transform(data['overview'])\n",
    "\n",
    "# Output kích cỡ của tfidf_matrix\n",
    "tfidf_matrix.shape"
   ]
  },
  {
   "cell_type": "markdown",
   "id": "8629db45",
   "metadata": {},
   "source": [
    "Có thể hiểu rằng chúng ta có 5590 từ khác nhau trong cột 'overview' để mô tả cho 1000 bộ phim trong bộ dữ liệu của chúng ta. Và ý tưởng là chúng ta sẽ đi tính độ tương tự của những 'overview' này. Một phương pháp để tính độ tương tự đó là cosine."
   ]
  },
  {
   "cell_type": "markdown",
   "id": "3e7f1d2c",
   "metadata": {},
   "source": [
    "Tiếp theo, ta sử dụng độ tương tự cosine để tính toán một đại lượng số biểu thị sự giống nhau giữa hai phim. Chọn độ tương tự cosine vì nó không phụ thuộc vào độ lớn và tương đối dễ dàng để tính toán (đặc biệt khi được sử dụng kết hợp với điểm TF - IDF). \n",
    "\n",
    "Cosine của hai vectơ khác 0 có thể được suy ra bằng cách sử dụng công thức tích Euclide :\n",
    "\n",
    "![](https://wikimedia.org/api/rest_v1/media/math/render/svg/fb9fc371e46e02d0ef51e781e7397629425856b5)\n",
    "\n",
    "Cho trước hai vectơ thuộc tính, A và B, độ tương tự cosin, cos(θ) , được biểu diễn bằng tích vô hướng và độ lớn như:\n",
    "\n",
    "![](https://wikimedia.org/api/rest_v1/media/math/render/svg/0a4c9a778656537624a3303e646559a429868863)\n",
    "\n",
    "**Chúng ta sử dụng module linear_kernel() của sklearn thay vì cosine_similities() tốc độ xử lý của linear_kernal nhanh hơn.**"
   ]
  },
  {
   "cell_type": "code",
   "execution_count": 13,
   "id": "4eaf367f",
   "metadata": {},
   "outputs": [],
   "source": [
    "# Import linear_kernel\n",
    "from sklearn.metrics.pairwise import linear_kernel\n",
    "\n",
    "# tính toán cosine similarity matrix\n",
    "cosine_sim = linear_kernel(tfidf_matrix, tfidf_matrix)"
   ]
  },
  {
   "cell_type": "markdown",
   "id": "75d6ad19",
   "metadata": {},
   "source": [
    "Hàm đề xuất của chúng ta sẽ nhận giá trị đầu vào là tên của một bộ phim và đầu ra là top 10 bộ phim có giá trị cosine cao nhất (ngoại trừ chính bộ phim ban đầu)"
   ]
  },
  {
   "cell_type": "code",
   "execution_count": 14,
   "id": "93fb8869",
   "metadata": {},
   "outputs": [],
   "source": [
    "# Tạo một pd.series gồm index và tên phim \n",
    "indices = pd.Series(data.index, index= data['title'])\n",
    "\n",
    "# Hàm đề xuất lấy tên phim là dữ liệu đầu vào và trả về những bộ phim tương tự\n",
    "def get_recommendations(title, cosine_sim=cosine_sim):\n",
    "    # lấy index của phim \n",
    "    idx = indices[title]\n",
    "\n",
    "    # Get the pairwsie similarity scores of all movies with that movie\n",
    "    sim_scores = list(enumerate(cosine_sim[idx]))\n",
    "\n",
    "    # Sort the movies based on the similarity scores\n",
    "    sim_scores = sorted(sim_scores, key=lambda x: x[1], reverse=True)\n",
    "\n",
    "    # Get the scores of the 10 most similar movies\n",
    "    sim_scores = sim_scores[1:11]\n",
    "\n",
    "    # Get the movie indices\n",
    "    movie_indices = [i[0] for i in sim_scores]\n",
    "\n",
    "    # Return the top 10 most similar movies\n",
    "    return data['title'].iloc[movie_indices]\n"
   ]
  },
  {
   "cell_type": "code",
   "execution_count": 15,
   "id": "ebafa62e",
   "metadata": {},
   "outputs": [
    {
     "data": {
      "text/plain": [
       "166                         Batman Begins\n",
       "627                            The Batman\n",
       "2                         The Dark Knight\n",
       "388                       The Incredibles\n",
       "362                                Ip Man\n",
       "70                       Django Unchained\n",
       "976             Die Hard with a Vengeance\n",
       "305                          The Exorcist\n",
       "718                The Outlaw Josey Wales\n",
       "379    Tae Guk Gi: The Brotherhood of War\n",
       "Name: title, dtype: object"
      ]
     },
     "execution_count": 15,
     "metadata": {},
     "output_type": "execute_result"
    }
   ],
   "source": [
    "# Top 10 bộ phim có nội dung tương tự với 'The Dark Knight Rises'.\n",
    "get_recommendations('The Dark Knight Rises')"
   ]
  },
  {
   "cell_type": "code",
   "execution_count": 16,
   "id": "1e35ae97",
   "metadata": {},
   "outputs": [
    {
     "data": {
      "text/plain": [
       "[(166, 0.19347840777480374),\n",
       " (627, 0.183916561218386),\n",
       " (2, 0.17266122461747765),\n",
       " (388, 0.10052477550306413),\n",
       " (362, 0.08879559459538439),\n",
       " (70, 0.0887335381844912),\n",
       " (976, 0.08597262848053445),\n",
       " (305, 0.08570399833758),\n",
       " (718, 0.07564909714855801),\n",
       " (379, 0.07450757393021464)]"
      ]
     },
     "execution_count": 16,
     "metadata": {},
     "output_type": "execute_result"
    }
   ],
   "source": [
    "# giá trị cosine của top 10 bộ phim tương tự với The Dark Knight Rises\n",
    "index = indices['The Dark Knight Rises']\n",
    "scores = list(enumerate(cosine_sim[index]))\n",
    "scores = sorted(scores, key=lambda x: x[1], reverse=True)\n",
    "scores = scores[1:11]\n",
    "scores"
   ]
  },
  {
   "cell_type": "markdown",
   "id": "df59251e",
   "metadata": {},
   "source": [
    "### 2.3.2 Đề xuất dựa trên thể loại phim, đạo diễn và các diễn viên "
   ]
  },
  {
   "cell_type": "markdown",
   "id": "61e4db34",
   "metadata": {},
   "source": [
    "Ta sẽ đi tìm những bộ phim có cùng đạo diễn, thể loại, cũng như các diễn viên với bộ phim cho trước.\n",
    "Trước tiên ta cần gộp các nội dung cần thiết gồm: gerne, star và director thành một cột \"feature\" để tính ma trận TF-IDF."
   ]
  },
  {
   "cell_type": "code",
   "execution_count": 17,
   "id": "26e17c51",
   "metadata": {},
   "outputs": [],
   "source": [
    "data['feature'] = data['director'] + ' ' + data['genre'].apply(lambda a: str(a).replace(',', ' ')) + ' ' + data['star_1'] + ' ' + data['star_2'] + ' ' + data['star_3'] + ' ' + data['star_4'] "
   ]
  },
  {
   "cell_type": "code",
   "execution_count": 18,
   "id": "123af7c7",
   "metadata": {},
   "outputs": [
    {
     "data": {
      "text/plain": [
       "0    Frank Darabont Drama Tim Robbins Morgan Freema...\n",
       "1    Francis Ford Coppola Crime  Drama Marlon Brand...\n",
       "2    Christopher Nolan Action  Crime  Drama Christi...\n",
       "3    Peter Jackson Action  Adventure  Drama Elijah ...\n",
       "4    Steven Spielberg Biography  Drama  History Lia...\n",
       "Name: feature, dtype: object"
      ]
     },
     "execution_count": 18,
     "metadata": {},
     "output_type": "execute_result"
    }
   ],
   "source": [
    "data['feature'].head(5)"
   ]
  },
  {
   "cell_type": "code",
   "execution_count": 19,
   "id": "235096ee",
   "metadata": {},
   "outputs": [
    {
     "data": {
      "text/plain": [
       "(1000, 4398)"
      ]
     },
     "execution_count": 19,
     "metadata": {},
     "output_type": "execute_result"
    }
   ],
   "source": [
    "#Import TfIdfVectorizer from scikit-learn\n",
    "from sklearn.feature_extraction.text import TfidfVectorizer\n",
    "\n",
    "# Định nghĩa đối tượng TF-IDF Vectorizer. Loại bỏ các từ không quan trọng như 'the', 'a'\n",
    "tfidf = TfidfVectorizer(stop_words='english')\n",
    "\n",
    "# Xây dựng ma trận TF-IDF \n",
    "tfidf_matrix = tfidf.fit_transform(data['feature'])\n",
    "\n",
    "# Output kích cỡ của tfidf_matrix\n",
    "tfidf_matrix.shape"
   ]
  },
  {
   "cell_type": "code",
   "execution_count": 20,
   "id": "60e70fa2",
   "metadata": {},
   "outputs": [],
   "source": [
    "# Import linear_kernel\n",
    "from sklearn.metrics.pairwise import linear_kernel\n",
    "\n",
    "# tính toán cosine similarity matrix\n",
    "cosine_sim_2 = linear_kernel(tfidf_matrix, tfidf_matrix)"
   ]
  },
  {
   "cell_type": "code",
   "execution_count": 21,
   "id": "2b3f8584",
   "metadata": {},
   "outputs": [],
   "source": [
    " # Tạo một pd.series gồm index và tên phim \n",
    "indices = pd.Series(data.index, index= data['title'])\n",
    "\n",
    "# Hàm đề xuất lấy tên phim là dữ liệu đầu vào và trả về những bộ phim tương tự\n",
    "def get_recommendations(title, cosine_sim=cosine_sim_2):\n",
    "    # lấy index của phim \n",
    "    idx = indices[title]\n",
    "\n",
    "    # Get the pairwsie similarity scores of all movies with that movie\n",
    "    sim_scores = list(enumerate(cosine_sim[idx]))\n",
    "\n",
    "    # Sort the movies based on the similarity scores\n",
    "    sim_scores = sorted(sim_scores, key=lambda x: x[1], reverse=True)\n",
    "\n",
    "    # Get the scores of the 10 most similar movies\n",
    "    sim_scores = sim_scores[1:11]\n",
    "\n",
    "    # Get the movie indices\n",
    "    movie_indices = [i[0] for i in sim_scores]\n",
    "\n",
    "    # Return the top 10 most similar movies\n",
    "    return data['title'].iloc[movie_indices]\n"
   ]
  },
  {
   "cell_type": "code",
   "execution_count": 22,
   "id": "7bd31e01",
   "metadata": {
    "scrolled": true
   },
   "outputs": [
    {
     "data": {
      "text/plain": [
       "166             Batman Begins\n",
       "23               Interstellar\n",
       "2             The Dark Knight\n",
       "41               The Prestige\n",
       "605                   Dunkirk\n",
       "47     Léon: The Professional\n",
       "919               Dark Waters\n",
       "82                    Memento\n",
       "408                       JFK\n",
       "650               The Fighter\n",
       "Name: title, dtype: object"
      ]
     },
     "execution_count": 22,
     "metadata": {},
     "output_type": "execute_result"
    }
   ],
   "source": [
    "# Top 10 bộ phim có nội dung tương tự với 'The Dark Knight Rises'.\n",
    "get_recommendations('The Dark Knight Rises')"
   ]
  },
  {
   "cell_type": "code",
   "execution_count": 24,
   "id": "92276dca",
   "metadata": {},
   "outputs": [
    {
     "data": {
      "text/plain": [
       "[(166, 0.37805679824685556),\n",
       " (23, 0.3615788254408408),\n",
       " (2, 0.3573918833038096),\n",
       " (41, 0.3480270101618977),\n",
       " (605, 0.32401679146970197),\n",
       " (47, 0.21681369676067558),\n",
       " (919, 0.21654994115119586),\n",
       " (82, 0.21595575016364066),\n",
       " (408, 0.20476591013788759),\n",
       " (650, 0.20215540258079984)]"
      ]
     },
     "execution_count": 24,
     "metadata": {},
     "output_type": "execute_result"
    }
   ],
   "source": [
    "# giá trị cosine của top 10 bộ phim tương tự với The Dark Knight Rises\n",
    "index = indices['The Dark Knight Rises']\n",
    "scores = list(enumerate(cosine_sim_2[index]))\n",
    "scores = sorted(scores, key=lambda x: x[1], reverse=True)\n",
    "scores = scores[1:11]\n",
    "scores"
   ]
  },
  {
   "cell_type": "markdown",
   "id": "c9960456",
   "metadata": {},
   "source": [
    "## 3. Web đề xuất phim"
   ]
  },
  {
   "cell_type": "markdown",
   "id": "cacbe2a3",
   "metadata": {},
   "source": [
    "### Link web"
   ]
  },
  {
   "cell_type": "markdown",
   "id": "2c4b5577",
   "metadata": {},
   "source": [
    "https://movies-recommendation-system-28.streamlit.app/?fbclid=IwAR2t-72IChskl8uQzY2ar3scxtHKyPonXbRJhLnoHMs6RFpABg6zHexaufE"
   ]
  }
 ],
 "metadata": {
  "kernelspec": {
   "display_name": "Python 3 (ipykernel)",
   "language": "python",
   "name": "python3"
  },
  "language_info": {
   "codemirror_mode": {
    "name": "ipython",
    "version": 3
   },
   "file_extension": ".py",
   "mimetype": "text/x-python",
   "name": "python",
   "nbconvert_exporter": "python",
   "pygments_lexer": "ipython3",
   "version": "3.9.7"
  }
 },
 "nbformat": 4,
 "nbformat_minor": 5
}
